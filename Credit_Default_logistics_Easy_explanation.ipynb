{
  "cells": [
    {
      "cell_type": "code",
      "execution_count": 127,
      "metadata": {
        "id": "JPOW94DCCsWl"
      },
      "outputs": [
        {
          "name": "stdout",
          "output_type": "stream",
          "text": [
            "Accuracy:  1.0\n",
            "sim_pred_1:[0 0 0 0 0 1 1 1 1 1]\n",
            "sim_pred_2:[0 0 0 0 0 0 0 0 0 0]\n",
            "sim_pred_3:[1 0 0 0 0 0 0 0 0 0]\n",
            "sim_pred_4:[1 1 1 1 1 0 0 0 0 0]\n",
            "sim_pred_5:[1 1 1 1 1 1 1 1 1 1]\n"
          ]
        },
        {
          "data": {
            "text/plain": [
              "<AxesSubplot: xlabel='Predicted', ylabel='Actual'>"
            ]
          },
          "execution_count": 127,
          "metadata": {},
          "output_type": "execute_result"
        },
        {
          "data": {
            "image/png": "[encoded data removed]",
            "text/plain": [
              "<Figure size 640x480 with 2 Axes>"
            ]
          },
          "metadata": {},
          "output_type": "display_data"
        }
      ],
      "source": [
        "import pandas as pd\n",
        "from sklearn.model_selection import train_test_split\n",
        "from sklearn.linear_model import LogisticRegression\n",
        "from sklearn import metrics\n",
        "import seaborn as sn\n",
        "\n",
        "# Information from Google Scholar\n",
        "ieee_fellow = {'phd': [15, 24,  10, 1, 6,  4,  2,  4,  9,  1, 1,  6,  25, 1, 7,  9],\n",
        "            'five':   [51, 109, 16, 4, 89, 47, 23, 18, 32, 4, 14, 33, 82, 9, 14, 91],\n",
        "            'gt':     [1,  1,   1,  0, 0,  0,  0,  0,  0,  0, 1,  1,  1,  1, 0,  1]}\n",
        "df = pd.DataFrame(ieee_fellow, columns = ['phd', 'five','gt'])\n",
        "x = df[['phd', 'five']]\n",
        "y = df['gt']\n",
        "\n",
        "\n",
        "sim_data_1 = {'phd': [1, 2, 3, 4, 5, 6, 7, 8, 9, 10], \n",
        "              'five': [1, 2, 3, 4, 5, 6, 7, 8, 9, 10]}\n",
        "sim_data_1 = pd.DataFrame(sim_data_1, columns= ['phd', 'five'])\n",
        "\n",
        "sim_data_2 = {'phd': [5, 5, 5, 5, 5, 5, 5, 5, 5, 5], \n",
        "              'five': [5, 15, 25, 35, 45, 55, 65, 75, 85, 95]}\n",
        "sim_data_2 = pd.DataFrame(sim_data_2, columns= ['phd', 'five'])\n",
        "\n",
        "sim_data_3 = {'phd': [6, 6, 6, 6, 6, 6, 6, 6, 6, 6], \n",
        "              'five': [6, 16, 26, 36, 46, 56, 66, 76, 86, 96]}\n",
        "sim_data_3 = pd.DataFrame(sim_data_3, columns= ['phd', 'five'])\n",
        "\n",
        "sim_data_4 = {'phd': [7, 7, 7, 7, 7, 7, 7, 7, 7, 7], \n",
        "              'five': [7, 17, 27, 37, 47, 57, 67, 77, 87, 97]}\n",
        "sim_data_4 = pd.DataFrame(sim_data_4, columns= ['phd', 'five'])\n",
        "\n",
        "sim_data_5 = {'phd': [8, 8, 8, 8, 8, 8, 8, 8, 8, 8], \n",
        "              'five': [8, 18, 28, 38, 48, 58, 68, 78, 88, 98]}\n",
        "sim_data_5 = pd.DataFrame(sim_data_5, columns= ['phd', 'five'])\n",
        "\n",
        "x_train, x_test, y_train, y_test = train_test_split(x, y, test_size=0.1, random_state=0)\n",
        "\n",
        "logistic_regression= LogisticRegression()\n",
        "logistic_regression.fit(x_train, y_train)\n",
        "y_pred = logistic_regression.predict(x_test)\n",
        "print('Accuracy: ',metrics.accuracy_score(y_test, y_pred))\n",
        "\n",
        "sim_pred_1 = logistic_regression.predict(sim_data_1)\n",
        "print(\"sim_pred_1:\" + str(sim_pred_1))\n",
        "\n",
        "sim_pred_2 = logistic_regression.predict(sim_data_2)\n",
        "print(\"sim_pred_2:\" + str(sim_pred_2))\n",
        "\n",
        "sim_pred_3 = logistic_regression.predict(sim_data_3)\n",
        "print(\"sim_pred_3:\" + str(sim_pred_3))\n",
        "\n",
        "sim_pred_4 = logistic_regression.predict(sim_data_4)\n",
        "print(\"sim_pred_4:\" + str(sim_pred_4))\n",
        "\n",
        "sim_pred_5 = logistic_regression.predict(sim_data_5)\n",
        "print(\"sim_pred_5:\" + str(sim_pred_5))\n",
        "\n",
        "\n",
        "confusion_matrix = pd.crosstab(y_test, y_pred, rownames=['Actual'], colnames=['Predicted'])\n",
        "sn.heatmap(confusion_matrix, annot=True)\n"
      ]
    }
  ],
  "metadata": {
    "colab": {
      "include_colab_link": true,
      "name": "Credit_Default_logistics_Easy_explanation.ipynb",
      "provenance": []
    },
    "kernelspec": {
      "display_name": "Python 3.8.13 ('ibl')",
      "language": "python",
      "name": "python3"
    },
    "language_info": {
      "codemirror_mode": {
        "name": "ipython",
        "version": 3
      },
      "file_extension": ".py",
      "mimetype": "text/x-python",
      "name": "python",
      "nbconvert_exporter": "python",
      "pygments_lexer": "ipython3",
      "version": "3.8.13"
    },
    "vscode": {
      "interpreter": {
        "hash": "f48403af925cfeae91fe19fafeffe5dc06fb886ad570bbb82cfb572dbabb564f"
      }
    }
  },
  "nbformat": 4,
  "nbformat_minor": 0
}
